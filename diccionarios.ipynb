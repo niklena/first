{
  "nbformat": 4,
  "nbformat_minor": 0,
  "metadata": {
    "colab": {
      "provenance": [],
      "include_colab_link": true
    },
    "kernelspec": {
      "name": "python3",
      "display_name": "Python 3"
    },
    "language_info": {
      "name": "python"
    }
  },
  "cells": [
    {
      "cell_type": "markdown",
      "metadata": {
        "id": "view-in-github",
        "colab_type": "text"
      },
      "source": [
        "<a href=\"https://colab.research.google.com/github/niklena/first/blob/master/diccionarios.ipynb\" target=\"_parent\"><img src=\"https://colab.research.google.com/assets/colab-badge.svg\" alt=\"Open In Colab\"/></a>"
      ]
    },
    {
      "cell_type": "markdown",
      "source": [
        "# Diccionarios\n",
        "Un diccionario es una colección desordenada de elementos. A diferencia de las listas y tuplas, donde los elementos se identifican por su posición, en un diccionario, cada elemento se asocia a una clave específica para su identificación. Las claves generalmente son números enteros o cadenas, aunque cualquier objeto inmutable puede utilizarse como clave. Los valores, por otro lado, pueden ser de cualquier tipo, incluso otros diccionarios.\n",
        "\n",
        "Para crear un diccionario, se utilizan llaves ({}), y los pares clave-valor se separan mediante comas. Cada clave se relaciona con su valor mediante dos puntos (:). Por ejemplo, el siguiente código crea un diccionario en el que las claves son nombres de lenguajes de programación y los valores corresponden a los años en que fueron desarrollados.\n",
        "\n",
        "\n",
        "\n",
        "\n"
      ],
      "metadata": {
        "id": "56_QYnOcVO10"
      }
    },
    {
      "cell_type": "code",
      "execution_count": null,
      "metadata": {
        "id": "RrtWqBzcU5SE"
      },
      "outputs": [],
      "source": [
        "d = {\"Python\": 1991, \"C\": 1972, \"Java\": 1996}"
      ]
    },
    {
      "cell_type": "markdown",
      "source": [
        "Los diccionarios se crean como instancias de la clase primitiva o nativa `dict`. Esto significa que los diccionarios son objetos que se basan en la estructura y funcionalidad proporcionada por la clase `dict` en el lenguaje.\n",
        "\n",
        "En Python, puedes crear un diccionario vacío utilizando las llaves `{}` o utilizando el constructor `dict()`."
      ],
      "metadata": {
        "id": "n8crYlSXVrTf"
      }
    },
    {
      "cell_type": "code",
      "source": [
        "mi_diccionario = {}  # Crea un diccionario vacío\n",
        "otro_diccionario = dict()  # También crea un diccionario vacío\n",
        "\n",
        "# Puedes agregar elementos clave-valor al diccionario\n",
        "mi_diccionario['clave1'] = 'valor1'\n",
        "mi_diccionario['clave2'] = 'valor2'"
      ],
      "metadata": {
        "id": "7iYHi4XDV2b5"
      },
      "execution_count": null,
      "outputs": []
    },
    {
      "cell_type": "markdown",
      "source": [
        "En este caso, mi_diccionario es una instancia de la clase dict. Esta clase proporciona métodos y operaciones para trabajar con diccionarios de manera eficiente, como agregar elementos, eliminar elementos, verificar la existencia de una clave, recorrer el diccionario y más."
      ],
      "metadata": {
        "id": "UDsMUQu9V7WF"
      }
    },
    {
      "cell_type": "markdown",
      "source": [
        "# Operaciones principales\n",
        "en un diccionario en Python, puedes acceder a un valor específico utilizando su clave correspondiente entre corchetes."
      ],
      "metadata": {
        "id": "u6Te0ztyWJ-5"
      }
    },
    {
      "cell_type": "code",
      "source": [
        "mi_diccionario = {\n",
        "    'clave1': 'valor1',\n",
        "    'clave2': 'valor2',\n",
        "    'clave3': 'valor3'\n",
        "}\n",
        "\n",
        "# Acceder a un valor utilizando su clave\n",
        "valor = mi_diccionario['clave2']\n",
        "print(valor)  # Esto imprimirá 'valor2'"
      ],
      "metadata": {
        "colab": {
          "base_uri": "https://localhost:8080/"
        },
        "id": "rRYUPgqxWQWb",
        "outputId": "208fe399-5d85-42c7-d637-f218853fa45e"
      },
      "execution_count": null,
      "outputs": [
        {
          "output_type": "stream",
          "name": "stdout",
          "text": [
            "valor2\n"
          ]
        }
      ]
    },
    {
      "cell_type": "markdown",
      "source": [
        "Recuerda que si intentas acceder a una clave que no existe en el diccionario, obtendrás un error KeyError. Por lo tanto, es importante verificar primero si una clave existe en el diccionario antes de intentar acceder a ella. Puedes hacerlo utilizando el operador `in` o el método `.get()`.\n",
        "\n",
        "Si la clave existe en el diccionario, el método `.get()` devuelve el valor correspondiente. En este caso, imprimirá \"El valor de 'clave2' es: valor2\". Si la clave no existe, `.get()` devolverá `None`,"
      ],
      "metadata": {
        "id": "_slxBaYKWa_l"
      }
    },
    {
      "cell_type": "code",
      "source": [
        "# Usando .get() para acceder a un valor\n",
        "valor = mi_diccionario.get('clave')\n",
        "\n",
        "if valor is not None:\n",
        "    print(f\"El valor de 'clave2' es: {valor}\")\n",
        "else:\n",
        "    print(\"La clave 'clave2' no existe en el diccionario\")"
      ],
      "metadata": {
        "colab": {
          "base_uri": "https://localhost:8080/"
        },
        "id": "iaTbx8dQWz53",
        "outputId": "ec56055b-bf4d-4bd3-a9fd-555dec3ed2a5"
      },
      "execution_count": null,
      "outputs": [
        {
          "output_type": "stream",
          "name": "stdout",
          "text": [
            "La clave 'clave2' no existe en el diccionario\n"
          ]
        }
      ]
    },
    {
      "cell_type": "markdown",
      "source": [
        "Puedes usar la misma sintaxis para asignar un nuevo valor a una clave existente en un diccionario en Python."
      ],
      "metadata": {
        "id": "3Gp9yjF1Xfal"
      }
    },
    {
      "cell_type": "code",
      "source": [
        "# Asignar un nuevo valor a una clave existente\n",
        "mi_diccionario['clave2'] = 'nuevo_valor'\n",
        "\n",
        "# Verificar el cambio\n",
        "print(mi_diccionario)"
      ],
      "metadata": {
        "id": "2yqYYT66XADK"
      },
      "execution_count": null,
      "outputs": []
    },
    {
      "cell_type": "markdown",
      "source": [
        "Puedes agregar nuevos elementos a un diccionario utilizando la misma sintaxis con corchetes para asignar un valor a una clave. Si la clave que estás utilizando no existe en el diccionario, se creará una nueva entrada con esa clave y el valor especificado."
      ],
      "metadata": {
        "id": "WWXxybhWYM2U"
      }
    },
    {
      "cell_type": "code",
      "source": [
        "# Agregar un nuevo elemento al diccionario\n",
        "mi_diccionario['clave4'] = 'valor4'\n",
        "\n",
        "# Verificar el cambio\n",
        "print(mi_diccionario)"
      ],
      "metadata": {
        "id": "QIEwVt7OW_KW"
      },
      "execution_count": null,
      "outputs": []
    },
    {
      "cell_type": "markdown",
      "source": [
        "En un diccionario de Python, las claves deben ser únicas, ya que actúan como identificadores únicos para los valores asociados. No puede haber dos claves iguales en un mismo diccionario, ya que eso generaría ambigüedad y Python no sabría a cuál de los valores asociados debería acceder.\n",
        "\n",
        "Por otro lado, es completamente válido tener dos o más claves diferentes que tengan el mismo valor asociado. Esto significa que varios identificadores diferentes pueden apuntar al mismo valor en un diccionario. Aquí tienes un ejemplo:"
      ],
      "metadata": {
        "id": "wV-FJNHUYn-f"
      }
    },
    {
      "cell_type": "code",
      "source": [
        "mi_diccionario = {\n",
        "    'clave1': 'valor_comun',\n",
        "    'clave2': 'valor_comun',\n",
        "    'clave3': 'otro_valor'\n",
        "}"
      ],
      "metadata": {
        "id": "_XzE81S_YwRk"
      },
      "execution_count": null,
      "outputs": []
    },
    {
      "cell_type": "markdown",
      "source": [
        "Cuando intentas acceder a una clave que no existe en un diccionario en Python, se lanzará una excepción llamada `KeyError`. Esto ocurre porque el diccionario no puede encontrar la clave especificada y, por lo tanto, no puede devolver un valor asociado con esa clave.\n",
        "\n",
        "Para evitar que se produzca un `KeyError` al intentar acceder a una clave que podría no existir en el diccionario, puedes utilizar el método .get() que mencionamos anteriormente. Este método te permite especificar un valor predeterminado que se devolverá en lugar de lanzar una excepción si la clave no se encuentra en el diccionario."
      ],
      "metadata": {
        "id": "XzbWtIKDY-zM"
      }
    },
    {
      "cell_type": "code",
      "source": [
        "mi_diccionario = {\n",
        "    'clave1': 'valor1',\n",
        "    'clave2': 'valor2',\n",
        "    'clave3': 'valor3'\n",
        "}\n",
        "\n",
        "# Usar .get() para acceder a una clave que podría no existir\n",
        "valor = mi_diccionario.get('clave4', 'Valor predeterminado')\n",
        "\n",
        "print(valor)  # Esto imprimirá 'Valor predeterminado'"
      ],
      "metadata": {
        "id": "C93jddnoZR_f"
      },
      "execution_count": null,
      "outputs": []
    },
    {
      "cell_type": "markdown",
      "source": [
        "puedes utilizar la palabra reservada `del` en Python para eliminar un elemento (clave-valor) específico de un diccionario."
      ],
      "metadata": {
        "id": "7iBlJ2qXZ041"
      }
    },
    {
      "cell_type": "code",
      "source": [
        "# Eliminar un elemento usando la palabra reservada del\n",
        "del mi_diccionario['clave2']\n",
        "\n",
        "# Verificar el cambio\n",
        "print(mi_diccionario)"
      ],
      "metadata": {
        "colab": {
          "base_uri": "https://localhost:8080/"
        },
        "id": "L64kHE_9aCER",
        "outputId": "20b6d880-a3a6-43a0-cbfe-6a96476f7e24"
      },
      "execution_count": null,
      "outputs": [
        {
          "output_type": "stream",
          "name": "stdout",
          "text": [
            "{'clave1': 'valor1', 'clave3': 'valor3'}\n"
          ]
        }
      ]
    },
    {
      "cell_type": "markdown",
      "source": [
        "Ten en cuenta que si intentas eliminar una clave que no existe en el diccionario, se generará un KeyError. Por lo tanto, es aconsejable verificar primero si la clave existe antes de intentar eliminarla."
      ],
      "metadata": {
        "id": "CBkkP8JeaKs1"
      }
    },
    {
      "cell_type": "markdown",
      "source": [
        "Cuando iteras sobre un diccionario en Python, por defecto, obtienes sus claves. Puedes usar un bucle `for` para recorrer las claves de un diccionario."
      ],
      "metadata": {
        "id": "-U0xrwzgaZmL"
      }
    },
    {
      "cell_type": "code",
      "source": [
        "# Iterar sobre las claves del diccionario\n",
        "for clave in mi_diccionario:\n",
        "    print(clave)"
      ],
      "metadata": {
        "colab": {
          "base_uri": "https://localhost:8080/"
        },
        "id": "BvAJDSGUaeaX",
        "outputId": "ff38d616-5a6a-4092-9441-328333e5e147"
      },
      "execution_count": null,
      "outputs": [
        {
          "output_type": "stream",
          "name": "stdout",
          "text": [
            "clave1\n",
            "clave3\n"
          ]
        }
      ]
    },
    {
      "cell_type": "markdown",
      "source": [
        "Si deseas acceder tanto a las claves como a los valores del diccionario durante la iteración, puedes utilizar el método `.items()`, que proporciona pares clave-valor en cada iteración."
      ],
      "metadata": {
        "id": "arcbGJK8al3L"
      }
    },
    {
      "cell_type": "code",
      "source": [
        "# Iterar sobre pares clave-valor del diccionario\n",
        "for clave, valor in mi_diccionario.items():\n",
        "    print(f'Clave: {clave}, Valor: {valor}')"
      ],
      "metadata": {
        "colab": {
          "base_uri": "https://localhost:8080/"
        },
        "id": "aljiT-uca0uG",
        "outputId": "b64e09ff-ee4d-4f06-fc95-9358bbecc612"
      },
      "execution_count": null,
      "outputs": [
        {
          "output_type": "stream",
          "name": "stdout",
          "text": [
            "Clave: clave1, Valor: valor1\n",
            "Clave: clave3, Valor: valor3\n"
          ]
        }
      ]
    },
    {
      "cell_type": "markdown",
      "source": [
        "Para recorrer los valores de un diccionario en Python, puedes utilizar el método `dict.values()`. Este método te proporciona una vista de los valores del diccionario, que puedes recorrer en un bucle `for`."
      ],
      "metadata": {
        "id": "jn1waOb_a_aA"
      }
    },
    {
      "cell_type": "code",
      "source": [
        "# Iterar sobre los valores del diccionario\n",
        "for valor in mi_diccionario.values():\n",
        "    print(valor)"
      ],
      "metadata": {
        "id": "-BuHhSTGbLy6"
      },
      "execution_count": null,
      "outputs": []
    },
    {
      "cell_type": "markdown",
      "source": [
        "Esto te permite acceder y trabajar con los valores del diccionario sin preocuparte por las claves. Si deseas acceder tanto a las claves como a los valores, puedes utilizar `dict.items()` como se mencionó anteriormente, y si solo necesitas las claves, puedes usar un bucle `for` sin ningún método adicional, ya que por defecto, cuando iteras sobre un diccionario, obtienes sus claves."
      ],
      "metadata": {
        "id": "MhY-2Dsaben3"
      }
    },
    {
      "cell_type": "code",
      "source": [
        "# Iterar sobre los valores del diccionario\n",
        "for valor in mi_diccionario.items():\n",
        "    print(valor)"
      ],
      "metadata": {
        "colab": {
          "base_uri": "https://localhost:8080/"
        },
        "id": "2vj2th0gbwNl",
        "outputId": "2046835e-4eff-4371-d324-00cec01ecae1"
      },
      "execution_count": null,
      "outputs": [
        {
          "output_type": "stream",
          "name": "stdout",
          "text": [
            "('clave1', 'valor1')\n",
            "('clave3', 'valor3')\n"
          ]
        }
      ]
    },
    {
      "cell_type": "markdown",
      "source": [
        "La función `len()` en Python se utiliza para obtener la cantidad de elementos en una colección, incluyendo diccionarios. En el caso de un diccionario, `len()` devuelve la cantidad de pares clave-valor que contiene el diccionario."
      ],
      "metadata": {
        "id": "HWTWreLgb3cF"
      }
    },
    {
      "cell_type": "code",
      "source": [
        "# Obtener la cantidad de pares clave-valor en el diccionario\n",
        "cantidad_elementos = len(mi_diccionario)\n",
        "\n",
        "print(cantidad_elementos)  # Esto imprimirá 3, ya que hay 3 pares clave-valor en el diccionario"
      ],
      "metadata": {
        "colab": {
          "base_uri": "https://localhost:8080/"
        },
        "id": "cWRj_R0EcA3D",
        "outputId": "dc860595-a9c5-444b-d314-88d293226128"
      },
      "execution_count": null,
      "outputs": [
        {
          "output_type": "stream",
          "name": "stdout",
          "text": [
            "2\n"
          ]
        }
      ]
    },
    {
      "cell_type": "markdown",
      "source": [
        "Para determinar si una clave pertenece a un diccionario en Python, puedes utilizar la palabra reservada in. Esta palabra reservada te permite verificar si una clave específica existe en el diccionario."
      ],
      "metadata": {
        "id": "c5C1bL-ScPUy"
      }
    },
    {
      "cell_type": "code",
      "source": [
        "\"clave2\" in d"
      ],
      "metadata": {
        "colab": {
          "base_uri": "https://localhost:8080/"
        },
        "id": "FolNKYLMcaWj",
        "outputId": "0a9a84ea-b78f-41e8-d1db-3af41d7f9c53"
      },
      "execution_count": null,
      "outputs": [
        {
          "output_type": "execute_result",
          "data": {
            "text/plain": [
              "False"
            ]
          },
          "metadata": {},
          "execution_count": 21
        }
      ]
    },
    {
      "cell_type": "markdown",
      "source": [
        "El método `clear()` se utiliza para eliminar todas las claves y valores de un diccionario en Python. Cuando se llama a este método, el diccionario queda vacío, es decir, no contiene ningún par clave-valor.\n",
        "\n"
      ],
      "metadata": {
        "id": "xuhXkr6IcpEi"
      }
    },
    {
      "cell_type": "code",
      "source": [
        "# Usar el método clear() para eliminar todos los elementos del diccionario\n",
        "mi_diccionario.clear()\n",
        "\n",
        "# Verificar que el diccionario está vacío\n",
        "print(mi_diccionario)  # Esto imprimirá un diccionario vacío: {}"
      ],
      "metadata": {
        "id": "SyBciSsXcx3j"
      },
      "execution_count": null,
      "outputs": []
    },
    {
      "cell_type": "markdown",
      "source": [
        "Ten en cuenta que el método `clear()` modifica el diccionario en su lugar y no devuelve ningún valor. Es útil cuando deseas reiniciar o limpiar un diccionario sin tener que crear uno nuevo."
      ],
      "metadata": {
        "id": "nMiUwsJGc6IS"
      }
    },
    {
      "cell_type": "markdown",
      "source": [
        "puedes actualizar un diccionario en Python utilizando el método `update()`. También puedes unir dos diccionarios utilizando este método. El método `update()` toma otro diccionario como argumento y agrega o actualiza elementos en el diccionario original con los elementos del diccionario proporcionado."
      ],
      "metadata": {
        "id": "AZZbgNgfdJHx"
      }
    },
    {
      "cell_type": "markdown",
      "source": [
        "## Actualizar un diccionario:"
      ],
      "metadata": {
        "id": "23LG9ZzrdjDq"
      }
    },
    {
      "cell_type": "code",
      "source": [
        "diccionario1 = {\n",
        "    'clave1': 'valor1',\n",
        "    'clave2': 'valor2',\n",
        "}\n",
        "\n",
        "diccionario2 = {\n",
        "    'clave2': 'nuevo_valor',\n",
        "    'clave3': 'valor3',\n",
        "}\n",
        "\n",
        "# Actualizar diccionario1 con los elementos de diccionario2\n",
        "diccionario1.update(diccionario2)\n",
        "\n",
        "print(diccionario1)"
      ],
      "metadata": {
        "colab": {
          "base_uri": "https://localhost:8080/"
        },
        "id": "tq9WcFsHdbq3",
        "outputId": "b196ee32-b396-465d-f3e2-d71f4420b856"
      },
      "execution_count": null,
      "outputs": [
        {
          "output_type": "stream",
          "name": "stdout",
          "text": [
            "{'clave1': 'valor1', 'clave2': 'nuevo_valor', 'clave3': 'valor3'}\n"
          ]
        }
      ]
    },
    {
      "cell_type": "markdown",
      "source": [
        "## Unir dos diccionarios:"
      ],
      "metadata": {
        "id": "-J89A7lZdliS"
      }
    },
    {
      "cell_type": "code",
      "source": [
        "diccionario1 = {\n",
        "    'clave1': 'valor1',\n",
        "    'clave2': 'valor2',\n",
        "}\n",
        "\n",
        "diccionario2 = {\n",
        "    'clave3': 'valor3',\n",
        "    'clave4': 'valor4',\n",
        "}\n",
        "\n",
        "# Unir diccionario1 y diccionario2\n",
        "diccionario1.update(diccionario2)\n",
        "\n",
        "print(diccionario1)"
      ],
      "metadata": {
        "id": "XtgtzCoTdw3L"
      },
      "execution_count": null,
      "outputs": []
    },
    {
      "cell_type": "markdown",
      "source": [
        "La función `pop()` es similar a `get()` en el sentido de que se utiliza para acceder a un valor asociado con una clave en un diccionario. Sin embargo, hay una diferencia clave: `pop()` no solo devuelve el valor asociado con la clave, sino que también elimina la clave y su valor del diccionario. Por otro lado, `get()` simplemente devuelve el valor sin eliminar nada del diccionario."
      ],
      "metadata": {
        "id": "dnndIGBZd-nP"
      }
    },
    {
      "cell_type": "code",
      "source": [
        "mi_diccionario = {\n",
        "    'clave1': 'valor1',\n",
        "    'clave2': 'valor2',\n",
        "    'clave3': 'valor3'\n",
        "}\n",
        "\n",
        "# Utilizar pop() para obtener y eliminar un elemento\n",
        "valor = mi_diccionario.pop('clave2')\n",
        "\n",
        "print(valor)  # Esto imprimirá 'valor2'\n",
        "print(mi_diccionario)  # Esto imprimirá el diccionario sin 'clave2': {'clave1': 'valor1', 'clave3': 'valor3'}"
      ],
      "metadata": {
        "colab": {
          "base_uri": "https://localhost:8080/"
        },
        "id": "_nLfXyCteKuV",
        "outputId": "572d1f3c-25de-46eb-8169-e0aa28461a80"
      },
      "execution_count": null,
      "outputs": [
        {
          "output_type": "stream",
          "name": "stdout",
          "text": [
            "valor2\n",
            "{'clave1': 'valor1', 'clave3': 'valor3'}\n"
          ]
        }
      ]
    },
    {
      "cell_type": "markdown",
      "source": [
        "Ten en cuenta que si intentas utilizar `pop()` con una clave que no existe en el diccionario, se generará un error KeyError."
      ],
      "metadata": {
        "id": "zwCUvz8zeaOV"
      }
    },
    {
      "cell_type": "markdown",
      "source": [
        "La función `pop()` en Python admite un argumento opcional para especificar un valor predeterminado que se devolverá en caso de que la clave no exista en el diccionario. Esto es similar a cómo `get()` funciona con un valor predeterminado."
      ],
      "metadata": {
        "id": "r4Oi7aTUel4M"
      }
    },
    {
      "cell_type": "code",
      "source": [
        "# Utilizar pop() con un valor predeterminado\n",
        "valor = mi_diccionario.pop('clave4', 'Valor predeterminado')\n",
        "\n",
        "print(valor)  # Esto imprimirá 'Valor predeterminado' porque 'clave4' no existe en el diccionario"
      ],
      "metadata": {
        "colab": {
          "base_uri": "https://localhost:8080/"
        },
        "id": "tWuHZbXKe2Ma",
        "outputId": "2529420d-bb71-4d53-8968-7f1336f50ca8"
      },
      "execution_count": null,
      "outputs": [
        {
          "output_type": "stream",
          "name": "stdout",
          "text": [
            "Valor predeterminado\n"
          ]
        }
      ]
    },
    {
      "cell_type": "markdown",
      "source": [
        "Esta característica es útil cuando deseas asegurarte de que obtendrás un valor válido, incluso si la clave no está presente en el diccionario, y evita que se genere un error KeyError."
      ],
      "metadata": {
        "id": "7DLUJ9Pce_J_"
      }
    },
    {
      "cell_type": "markdown",
      "source": [
        "el método `popitem()` en un diccionario en Python se utiliza para eliminar y devolver un par clave-valor de manera aleatoria, ya que los diccionarios en Python no tienen un orden específico de elementos. Esto significa que no puedes predecir cuál será el par clave-valor que se eliminará y devolverá cuando se llama a `popitem()`."
      ],
      "metadata": {
        "id": "4la5oCYgfABQ"
      }
    },
    {
      "cell_type": "code",
      "source": [
        "# Utilizar popitem() para obtener y eliminar un par clave-valor aleatorio\n",
        "clave, valor = mi_diccionario.popitem()\n",
        "\n",
        "print(f'Clave: {clave}, Valor: {valor}')\n",
        "print(mi_diccionario)  # El diccionario ahora tiene un elemento menos"
      ],
      "metadata": {
        "colab": {
          "base_uri": "https://localhost:8080/"
        },
        "id": "RmobwWOJfaiL",
        "outputId": "e0e43c48-fc41-4e69-a8ba-651e5b96f40a"
      },
      "execution_count": null,
      "outputs": [
        {
          "output_type": "stream",
          "name": "stdout",
          "text": [
            "Clave: clave3, Valor: valor3\n",
            "{'clave1': 'valor1'}\n"
          ]
        }
      ]
    },
    {
      "cell_type": "markdown",
      "source": [
        "# Otras formas de crear diccionarios\n",
        "Cuando se pasan argumentos por nombre a la función `dict()` en Python, los nombres de los argumentos se convertirán en claves del nuevo diccionario, y los valores de los argumentos se convertirán en los valores asociados con esas claves. En este caso, las claves serán cadenas de texto."
      ],
      "metadata": {
        "id": "yszfpsz0iDiD"
      }
    },
    {
      "cell_type": "code",
      "source": [
        "nuevo_diccionario = dict(clave1='valor1', clave2=2202, clave3='valor3')\n",
        "\n",
        "print(nuevo_diccionario)"
      ],
      "metadata": {
        "colab": {
          "base_uri": "https://localhost:8080/"
        },
        "id": "g9zIL8qGiMz_",
        "outputId": "a372d484-00c6-4986-f187-df804b810854"
      },
      "execution_count": null,
      "outputs": [
        {
          "output_type": "stream",
          "name": "stdout",
          "text": [
            "{'clave1': 'valor1', 'clave2': 2202, 'clave3': 'valor3'}\n"
          ]
        }
      ]
    },
    {
      "cell_type": "markdown",
      "source": [
        "Una forma alternativa de representar pares clave-valor en Python es utilizando una lista de tuplas, donde cada tupla contiene dos elementos: la clave como primer elemento y el valor como segundo elemento. Esta lista de tuplas puede luego convertirse en un diccionario utilizando la función dict() o mediante comprensiones de diccionario."
      ],
      "metadata": {
        "id": "hLVLgzPAi16E"
      }
    },
    {
      "cell_type": "code",
      "source": [
        "lista_de_tuplas = [('clave1', 'valor1'), ('clave2', 'valor2'), ('clave3', 'valor3')]\n",
        "\n",
        "# Convertir la lista de tuplas en un diccionario\n",
        "mi_diccionario = dict(lista_de_tuplas)\n",
        "\n",
        "print(mi_diccionario)"
      ],
      "metadata": {
        "id": "F86qomsfi8ep"
      },
      "execution_count": null,
      "outputs": []
    },
    {
      "cell_type": "markdown",
      "source": [
        "El método estático fromkeys() en Python se utiliza para generar un diccionario a partir de un conjunto de claves especificadas y asignarles a todas ellas un valor inicial (que es None por defecto si no se especifica un valor). Esto puede ser útil cuando deseas crear un diccionario con un conjunto predefinido de claves, pero inicialmente no te importa asignarles valores específicos."
      ],
      "metadata": {
        "id": "k7tHSSlvjejJ"
      }
    },
    {
      "cell_type": "code",
      "source": [
        "# Crear un diccionario con claves especificadas y valores iniciales (None por defecto)\n",
        "mi_diccionario = dict.fromkeys(['clave1', 'clave2', 'clave3'])\n",
        "\n",
        "print(mi_diccionario)"
      ],
      "metadata": {
        "colab": {
          "base_uri": "https://localhost:8080/"
        },
        "id": "nrH4HHKGkVPA",
        "outputId": "aa41a96c-d744-45e6-e501-0f7910a28fb5"
      },
      "execution_count": null,
      "outputs": [
        {
          "output_type": "stream",
          "name": "stdout",
          "text": [
            "{'clave1': None, 'clave2': None, 'clave3': None}\n"
          ]
        }
      ]
    },
    {
      "cell_type": "markdown",
      "source": [
        "También puedes especificar un valor diferente que se asignará a todas las claves utilizando el argumento `value` de `fromkeys()`."
      ],
      "metadata": {
        "id": "kYbA08QplEZU"
      }
    },
    {
      "cell_type": "code",
      "source": [
        "# Crear un diccionario con claves especificadas y valores iniciales (None por defecto)\n",
        "mi_diccionario = dict.fromkeys(['clave1', 'clave2', 'clave3'],1)\n",
        "\n",
        "print(mi_diccionario)"
      ],
      "metadata": {
        "colab": {
          "base_uri": "https://localhost:8080/"
        },
        "id": "yThLOarVk7cD",
        "outputId": "ff181cf1-1492-4619-d6e7-f6f380bfb761"
      },
      "execution_count": null,
      "outputs": [
        {
          "output_type": "stream",
          "name": "stdout",
          "text": [
            "{'clave1': 1, 'clave2': 1, 'clave3': 1}\n"
          ]
        }
      ]
    }
  ]
}